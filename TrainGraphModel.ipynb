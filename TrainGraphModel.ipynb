{
 "cells": [
  {
   "cell_type": "code",
   "execution_count": 1,
   "id": "847a19c3",
   "metadata": {},
   "outputs": [],
   "source": [
    "from pycocotools.coco import COCO\n",
    "from CoOccuranceGraph import CoOccuranceGraph\n",
    "import json\n",
    "import cv2"
   ]
  },
  {
   "cell_type": "code",
   "execution_count": null,
   "id": "4c8520f2",
   "metadata": {
    "scrolled": true
   },
   "outputs": [],
   "source": [
    "#toOmit = [1, 183, 105]\n",
    "toOmit = []\n",
    "graph = CoOccuranceGraph(toOmit)\n",
    "toPrint = ['bus', 'car', 'elephant']\n",
    "print(graph.PositionOfObjects(toPrint))\n",
    "\n",
    "printXY = graph.PositionOfObjects(toPrint)\n",
    "\n",
    "print(graph.GetCentroid(printXY))\n",
    "centroid = graph.GetCentroid(printXY)\n",
    "for key, value in printXY.items():\n",
    "    print(key)\n",
    "    print(graph.GetEuclideanDistance(centroid, value))\n",
    "\n",
    "print(\"Euc distance between car and bus\")\n",
    "toTest = ['bus', 'car']\n",
    "positionObj = graph.PositionOfObjects(toTest)\n",
    "centroid = graph.GetCentroid(positionObj)\n",
    "simDistance = 0\n",
    "for key, value in positionObj.items():\n",
    "    simDistance += graph.GetEuclideanDistance(centroid, value)\n",
    "print(f\"Sum of Euc Distance for: 'bus', 'car' = {simDistance}\")\n",
    "\n",
    "print(\"Euc distance between car and elephant\")\n",
    "toTest = ['car', 'elephant']\n",
    "positionObj = graph.PositionOfObjects(toTest)\n",
    "centroid = graph.GetCentroid(positionObj)\n",
    "simDistance = 0\n",
    "for key, value in positionObj.items():\n",
    "    simDistance += graph.GetEuclideanDistance(centroid, value)\n",
    "print(f\"Sum of Euc Distance for: 'car', 'elephant' = {simDistance}\")\n",
    "\n",
    "print(\"Euc distance between bus and elephant\")\n",
    "toTest = ['bus', 'elephant']\n",
    "positionObj = graph.PositionOfObjects(toTest)\n",
    "centroid = graph.GetCentroid(positionObj)\n",
    "simDistance = 0\n",
    "for key, value in positionObj.items():\n",
    "    simDistance += graph.GetEuclideanDistance(centroid, value)\n",
    "print(f\"Sum of Euc Distance for: bus and elephant = {simDistance}\")\n",
    "\n",
    "\n",
    "print(\"Euc distance between bed, pillow, tv, remote, carpet\")\n",
    "toTest = ['bed', 'pillow', 'tv', 'remote', 'carpet']\n",
    "positionObj = graph.PositionOfObjects(toTest)\n",
    "centroid = graph.GetCentroid(positionObj)\n",
    "simDistance = 0\n",
    "for key, value in positionObj.items():\n",
    "    simDistance += graph.GetEuclideanDistance(centroid, value)\n",
    "print(f\"Sum of Euc Distance for: 'bed', 'pillow', 'tv', 'remote', 'carpet' = {simDistance}\")\n",
    "\n",
    "print(\"Euc distance between snowboard, pillow, tv, remote, carpet\")\n",
    "toTest = ['snowboard', 'pillow', 'tv', 'remote', 'carpet']\n",
    "positionObj = graph.PositionOfObjects(toTest)\n",
    "centroid = graph.GetCentroid(positionObj)\n",
    "simDistance = 0\n",
    "for key, value in positionObj.items():\n",
    "    simDistance += graph.GetEuclideanDistance(centroid, value)\n",
    "print(f\"Sum of Euc Distance for: 'snowboard', 'pillow', 'tv', 'remote', 'carpet' = {simDistance}\")\n",
    "\n",
    "# New version that does it all.\n",
    "print(\"Euc distance between snowboard, pillow, tv, remote, carpet, Test 2\")\n",
    "toTest = ['snowboard', 'pillow', 'tv', 'remote', 'carpet']\n",
    "print(f\"Sum of Euc Distance for: 'snowboard', 'pillow', 'tv', 'remote', 'carpet' = {graph.FindEuclideanDistance(toTest)}\")\n",
    "\n",
    "print(\"Tesing if the function does what it should\")\n",
    "toTest = ['bed', 'snowboard', 'pillow', 'tv', 'remote', 'carpet']\n",
    "a, b ,c ,d = graph.GetLowestAndHighestEucDistance(toTest)\n",
    "print(a)\n",
    "print(c)\n",
    "\n",
    "print(b)\n",
    "print(d)"
   ]
  },
  {
   "cell_type": "code",
   "execution_count": null,
   "id": "d57ab9c0",
   "metadata": {},
   "outputs": [],
   "source": [
    "object_annotation_path = \"Dataset/annotations/object_annotations/instances_train2017.json\"\n",
    "object_annotations = COCO(annotation_file=object_annotation_path) "
   ]
  },
  {
   "cell_type": "code",
   "execution_count": null,
   "id": "afa1e767",
   "metadata": {},
   "outputs": [],
   "source": [
    "with open(\"IdLookup.txt\", \"r\") as f:\n",
    "    lookup = json.loads(f.read())"
   ]
  },
  {
   "cell_type": "code",
   "execution_count": null,
   "id": "5f7150b5",
   "metadata": {},
   "outputs": [],
   "source": [
    "# Creating a map of strings and arrays. Key will be the image id and value is an array of the objects inside the picture.\n",
    "imagesAndObjects = {}\n",
    "# Getting all the ids of the images in the coco dataset.\n",
    "imageIds = object_annotations.getImgIds()\n",
    "for image in imageIds:\n",
    "    #Loading the annotations from imageid\n",
    "    imageAnnotations = object_annotations.loadAnns(object_annotations.getAnnIds(image, iscrowd=None))\n",
    "    objects = []\n",
    "    for label in imageAnnotations:\n",
    "        #If there is a duplicate we do not want to append it.\n",
    "        if lookup[str(label['category_id'])] in objects:\n",
    "            continue\n",
    "        objects.append(lookup[str(label['category_id'])])\n",
    "        \n",
    "    imagesAndObjects[str(image)] = objects"
   ]
  },
  {
   "cell_type": "code",
   "execution_count": null,
   "id": "8d9e9fa8",
   "metadata": {},
   "outputs": [],
   "source": []
  },
  {
   "cell_type": "code",
   "execution_count": null,
   "id": "3a31fc76",
   "metadata": {},
   "outputs": [],
   "source": [
    "a = 0\n",
    "b = 0\n",
    "c = 0\n",
    "for key, value in imagesAndObjects.items():\n",
    "    if len(value) == 0:\n",
    "        a = a +1\n",
    "    if len(value) == 1:\n",
    "        b = b +1\n",
    "    if len(value) == 2:\n",
    "        c = c +1\n",
    "print(a)\n",
    "print(b)\n",
    "print(c)"
   ]
  },
  {
   "cell_type": "code",
   "execution_count": null,
   "id": "12c4f2a6",
   "metadata": {},
   "outputs": [],
   "source": [
    "lowHighEuclidian = {}\n",
    "for key, value in imagesAndObjects.items():\n",
    "    #If there are less than three unique objects in the image we skip\n",
    "    if len(value) < 2:\n",
    "        continue\n",
    "    low, high, lowExcluded, highExcluded = graph.GetLowestAndHighestEucDistance(value)\n",
    "    lowHighEuclidian[key] = {'low': low, 'high': high, 'object': value, 'lowexcluded': lowExcluded, 'highexcluded': highExcluded}   "
   ]
  },
  {
   "cell_type": "code",
   "execution_count": null,
   "id": "d52821ad",
   "metadata": {},
   "outputs": [],
   "source": [
    "lowHighEuclidian"
   ]
  },
  {
   "cell_type": "code",
   "execution_count": null,
   "id": "4012b2ac",
   "metadata": {},
   "outputs": [],
   "source": [
    "highestDelta = 1.4\n",
    "ignore = 1.5\n",
    "highestDict = {}\n",
    "for key, value in lowHighEuclidian.items():\n",
    "    delta = value['high'] - value['low']\n",
    "    if delta > highestDelta and delta < ignore:\n",
    "        highestDict[key] = [value]\n",
    "        highestDict['delta'] = delta"
   ]
  },
  {
   "cell_type": "code",
   "execution_count": null,
   "id": "03eaabee",
   "metadata": {},
   "outputs": [],
   "source": [
    "for key, value in highestDict.items():\n",
    "    #picture = object_annotations.loadAnns(object_annotations.getAnnIds(key, iscrowd=None))\n",
    "    if key == 'delta':\n",
    "        continue\n",
    "    img_info = object_annotations.loadImgs([int(key)])[0]\n",
    "    img_file_name = img_info[\"file_name\"]\n",
    "    img_full_path = f\"./Dataset/train2017/{img_file_name}\"\n",
    "    \n",
    "    img = cv2.imread(img_full_path)\n",
    "    cv2.imshow(f\"{value[0]['lowexcluded']}\",img)\n",
    "    cv2.waitKey(0)\n",
    "    cv2.destroyAllWindows()"
   ]
  },
  {
   "cell_type": "code",
   "execution_count": null,
   "id": "75bd0344",
   "metadata": {},
   "outputs": [],
   "source": []
  }
 ],
 "metadata": {
  "kernelspec": {
   "display_name": "Python 3 (ipykernel)",
   "language": "python",
   "name": "python3"
  },
  "language_info": {
   "codemirror_mode": {
    "name": "ipython",
    "version": 3
   },
   "file_extension": ".py",
   "mimetype": "text/x-python",
   "name": "python",
   "nbconvert_exporter": "python",
   "pygments_lexer": "ipython3",
   "version": "3.11.2"
  }
 },
 "nbformat": 4,
 "nbformat_minor": 5
}
