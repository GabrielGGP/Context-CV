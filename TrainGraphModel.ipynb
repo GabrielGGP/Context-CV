{
 "cells": [
  {
   "cell_type": "code",
   "execution_count": 1,
   "id": "401b4b42",
   "metadata": {},
   "outputs": [
    {
     "ename": "KeyboardInterrupt",
     "evalue": "",
     "output_type": "error",
     "traceback": [
      "\u001b[1;31m---------------------------------------------------------------------------\u001b[0m",
      "\u001b[1;31mKeyboardInterrupt\u001b[0m                         Traceback (most recent call last)",
      "Cell \u001b[1;32mIn[1], line 1\u001b[0m\n\u001b[1;32m----> 1\u001b[0m \u001b[38;5;28;01mfrom\u001b[39;00m \u001b[38;5;21;01mpycocotools\u001b[39;00m\u001b[38;5;21;01m.\u001b[39;00m\u001b[38;5;21;01mcoco\u001b[39;00m \u001b[38;5;28;01mimport\u001b[39;00m COCO\n\u001b[0;32m      2\u001b[0m \u001b[38;5;28;01mfrom\u001b[39;00m \u001b[38;5;21;01mCoOccuranceGraph\u001b[39;00m \u001b[38;5;28;01mimport\u001b[39;00m CoOccuranceGraph\n\u001b[0;32m      3\u001b[0m \u001b[38;5;28;01mimport\u001b[39;00m \u001b[38;5;21;01mjson\u001b[39;00m\n",
      "File \u001b[1;32mZ:\\Context-CV\\pycocotools\\coco.py:49\u001b[0m\n\u001b[0;32m     47\u001b[0m \u001b[38;5;28;01mimport\u001b[39;00m \u001b[38;5;21;01mjson\u001b[39;00m\n\u001b[0;32m     48\u001b[0m \u001b[38;5;28;01mimport\u001b[39;00m \u001b[38;5;21;01mtime\u001b[39;00m\n\u001b[1;32m---> 49\u001b[0m \u001b[38;5;28;01mimport\u001b[39;00m \u001b[38;5;21;01mmatplotlib\u001b[39;00m\u001b[38;5;21;01m.\u001b[39;00m\u001b[38;5;21;01mpyplot\u001b[39;00m \u001b[38;5;28;01mas\u001b[39;00m \u001b[38;5;21;01mplt\u001b[39;00m\n\u001b[0;32m     50\u001b[0m \u001b[38;5;28;01mfrom\u001b[39;00m \u001b[38;5;21;01mmatplotlib\u001b[39;00m\u001b[38;5;21;01m.\u001b[39;00m\u001b[38;5;21;01mcollections\u001b[39;00m \u001b[38;5;28;01mimport\u001b[39;00m PatchCollection\n\u001b[0;32m     51\u001b[0m \u001b[38;5;28;01mfrom\u001b[39;00m \u001b[38;5;21;01mmatplotlib\u001b[39;00m\u001b[38;5;21;01m.\u001b[39;00m\u001b[38;5;21;01mpatches\u001b[39;00m \u001b[38;5;28;01mimport\u001b[39;00m Polygon\n",
      "File \u001b[1;32m~\\AppData\\Local\\Programs\\Python\\Python311\\Lib\\site-packages\\matplotlib\\__init__.py:108\u001b[0m\n\u001b[0;32m    105\u001b[0m \u001b[38;5;28;01mimport\u001b[39;00m \u001b[38;5;21;01mtempfile\u001b[39;00m\n\u001b[0;32m    106\u001b[0m \u001b[38;5;28;01mimport\u001b[39;00m \u001b[38;5;21;01mwarnings\u001b[39;00m\n\u001b[1;32m--> 108\u001b[0m \u001b[38;5;28;01mimport\u001b[39;00m \u001b[38;5;21;01mnumpy\u001b[39;00m\n\u001b[0;32m    109\u001b[0m \u001b[38;5;28;01mfrom\u001b[39;00m \u001b[38;5;21;01mpackaging\u001b[39;00m\u001b[38;5;21;01m.\u001b[39;00m\u001b[38;5;21;01mversion\u001b[39;00m \u001b[38;5;28;01mimport\u001b[39;00m parse \u001b[38;5;28;01mas\u001b[39;00m parse_version\n\u001b[0;32m    111\u001b[0m \u001b[38;5;66;03m# cbook must import matplotlib only within function\u001b[39;00m\n\u001b[0;32m    112\u001b[0m \u001b[38;5;66;03m# definitions, so it is safe to import from it here.\u001b[39;00m\n",
      "File \u001b[1;32m~\\AppData\\Local\\Programs\\Python\\Python311\\Lib\\site-packages\\numpy\\__init__.py:141\u001b[0m\n\u001b[0;32m    138\u001b[0m \u001b[38;5;66;03m# Allow distributors to run custom init code\u001b[39;00m\n\u001b[0;32m    139\u001b[0m \u001b[38;5;28;01mfrom\u001b[39;00m \u001b[38;5;21;01m.\u001b[39;00m \u001b[38;5;28;01mimport\u001b[39;00m _distributor_init\n\u001b[1;32m--> 141\u001b[0m \u001b[38;5;28;01mfrom\u001b[39;00m \u001b[38;5;21;01m.\u001b[39;00m \u001b[38;5;28;01mimport\u001b[39;00m core\n\u001b[0;32m    142\u001b[0m \u001b[38;5;28;01mfrom\u001b[39;00m \u001b[38;5;21;01m.\u001b[39;00m\u001b[38;5;21;01mcore\u001b[39;00m \u001b[38;5;28;01mimport\u001b[39;00m \u001b[38;5;241m*\u001b[39m\n\u001b[0;32m    143\u001b[0m \u001b[38;5;28;01mfrom\u001b[39;00m \u001b[38;5;21;01m.\u001b[39;00m \u001b[38;5;28;01mimport\u001b[39;00m compat\n",
      "File \u001b[1;32m~\\AppData\\Local\\Programs\\Python\\Python311\\Lib\\site-packages\\numpy\\core\\__init__.py:73\u001b[0m\n\u001b[0;32m     71\u001b[0m \u001b[38;5;28;01mfrom\u001b[39;00m \u001b[38;5;21;01m.\u001b[39;00m \u001b[38;5;28;01mimport\u001b[39;00m numerictypes \u001b[38;5;28;01mas\u001b[39;00m nt\n\u001b[0;32m     72\u001b[0m multiarray\u001b[38;5;241m.\u001b[39mset_typeDict(nt\u001b[38;5;241m.\u001b[39msctypeDict)\n\u001b[1;32m---> 73\u001b[0m \u001b[38;5;28;01mfrom\u001b[39;00m \u001b[38;5;21;01m.\u001b[39;00m \u001b[38;5;28;01mimport\u001b[39;00m numeric\n\u001b[0;32m     74\u001b[0m \u001b[38;5;28;01mfrom\u001b[39;00m \u001b[38;5;21;01m.\u001b[39;00m\u001b[38;5;21;01mnumeric\u001b[39;00m \u001b[38;5;28;01mimport\u001b[39;00m \u001b[38;5;241m*\u001b[39m\n\u001b[0;32m     75\u001b[0m \u001b[38;5;28;01mfrom\u001b[39;00m \u001b[38;5;21;01m.\u001b[39;00m \u001b[38;5;28;01mimport\u001b[39;00m fromnumeric\n",
      "File \u001b[1;32m~\\AppData\\Local\\Programs\\Python\\Python311\\Lib\\site-packages\\numpy\\core\\numeric.py:2550\u001b[0m\n\u001b[0;32m   2548\u001b[0m \u001b[38;5;28;01mfrom\u001b[39;00m \u001b[38;5;21;01m.\u001b[39;00m \u001b[38;5;28;01mimport\u001b[39;00m arrayprint\n\u001b[0;32m   2549\u001b[0m \u001b[38;5;28;01mfrom\u001b[39;00m \u001b[38;5;21;01m.\u001b[39;00m\u001b[38;5;21;01marrayprint\u001b[39;00m \u001b[38;5;28;01mimport\u001b[39;00m \u001b[38;5;241m*\u001b[39m\n\u001b[1;32m-> 2550\u001b[0m \u001b[38;5;28;01mfrom\u001b[39;00m \u001b[38;5;21;01m.\u001b[39;00m \u001b[38;5;28;01mimport\u001b[39;00m _asarray\n\u001b[0;32m   2551\u001b[0m \u001b[38;5;28;01mfrom\u001b[39;00m \u001b[38;5;21;01m.\u001b[39;00m\u001b[38;5;21;01m_asarray\u001b[39;00m \u001b[38;5;28;01mimport\u001b[39;00m \u001b[38;5;241m*\u001b[39m\n\u001b[0;32m   2552\u001b[0m \u001b[38;5;28;01mfrom\u001b[39;00m \u001b[38;5;21;01m.\u001b[39;00m \u001b[38;5;28;01mimport\u001b[39;00m _ufunc_config\n",
      "File \u001b[1;32m<frozen importlib._bootstrap>:1178\u001b[0m, in \u001b[0;36m_find_and_load\u001b[1;34m(name, import_)\u001b[0m\n",
      "File \u001b[1;32m<frozen importlib._bootstrap>:1149\u001b[0m, in \u001b[0;36m_find_and_load_unlocked\u001b[1;34m(name, import_)\u001b[0m\n",
      "File \u001b[1;32m<frozen importlib._bootstrap>:690\u001b[0m, in \u001b[0;36m_load_unlocked\u001b[1;34m(spec)\u001b[0m\n",
      "File \u001b[1;32m<frozen importlib._bootstrap_external>:936\u001b[0m, in \u001b[0;36mexec_module\u001b[1;34m(self, module)\u001b[0m\n",
      "File \u001b[1;32m<frozen importlib._bootstrap_external>:1032\u001b[0m, in \u001b[0;36mget_code\u001b[1;34m(self, fullname)\u001b[0m\n",
      "File \u001b[1;32m<frozen importlib._bootstrap_external>:1130\u001b[0m, in \u001b[0;36mget_data\u001b[1;34m(self, path)\u001b[0m\n",
      "\u001b[1;31mKeyboardInterrupt\u001b[0m: "
     ]
    }
   ],
   "source": [
    "from pycocotools.coco import COCO\n",
    "from CoOccuranceGraph import CoOccuranceGraph\n",
    "import json\n",
    "import cv2"
   ]
  },
  {
   "cell_type": "code",
   "execution_count": null,
   "id": "8bd4789a",
   "metadata": {
    "scrolled": true
   },
   "outputs": [],
   "source": [
    "#toOmit = [1, 183, 105]\n",
    "toOmit = []\n",
    "graph = CoOccuranceGraph(toOmit)\n",
    "toPrint = ['bus', 'car', 'elephant']\n",
    "print(graph.PositionOfObjects(toPrint))\n",
    "\n",
    "printXY = graph.PositionOfObjects(toPrint)\n",
    "\n",
    "print(graph.GetCentroid(printXY))\n",
    "centroid = graph.GetCentroid(printXY)\n",
    "for key, value in printXY.items():\n",
    "    print(key)\n",
    "    print(graph.GetEuclideanDistance(centroid, value))\n",
    "\n",
    "print(\"Euc distance between car and bus\")\n",
    "toTest = ['bus', 'car']\n",
    "positionObj = graph.PositionOfObjects(toTest)\n",
    "centroid = graph.GetCentroid(positionObj)\n",
    "simDistance = 0\n",
    "for key, value in positionObj.items():\n",
    "    simDistance += graph.GetEuclideanDistance(centroid, value)\n",
    "print(f\"Sum of Euc Distance for: 'bus', 'car' = {simDistance}\")\n",
    "\n",
    "print(\"Euc distance between car and elephant\")\n",
    "toTest = ['car', 'elephant']\n",
    "positionObj = graph.PositionOfObjects(toTest)\n",
    "centroid = graph.GetCentroid(positionObj)\n",
    "simDistance = 0\n",
    "for key, value in positionObj.items():\n",
    "    simDistance += graph.GetEuclideanDistance(centroid, value)\n",
    "print(f\"Sum of Euc Distance for: 'car', 'elephant' = {simDistance}\")\n",
    "\n",
    "print(\"Euc distance between bus and elephant\")\n",
    "toTest = ['bus', 'elephant']\n",
    "positionObj = graph.PositionOfObjects(toTest)\n",
    "centroid = graph.GetCentroid(positionObj)\n",
    "simDistance = 0\n",
    "for key, value in positionObj.items():\n",
    "    simDistance += graph.GetEuclideanDistance(centroid, value)\n",
    "print(f\"Sum of Euc Distance for: bus and elephant = {simDistance}\")\n",
    "\n",
    "\n",
    "print(\"Euc distance between bed, pillow, tv, remote, carpet\")\n",
    "toTest = ['bed', 'pillow', 'tv', 'remote', 'carpet']\n",
    "positionObj = graph.PositionOfObjects(toTest)\n",
    "centroid = graph.GetCentroid(positionObj)\n",
    "simDistance = 0\n",
    "for key, value in positionObj.items():\n",
    "    simDistance += graph.GetEuclideanDistance(centroid, value)\n",
    "print(f\"Sum of Euc Distance for: 'bed', 'pillow', 'tv', 'remote', 'carpet' = {simDistance}\")\n",
    "\n",
    "print(\"Euc distance between snowboard, pillow, tv, remote, carpet\")\n",
    "toTest = ['snowboard', 'pillow', 'tv', 'remote', 'carpet']\n",
    "positionObj = graph.PositionOfObjects(toTest)\n",
    "centroid = graph.GetCentroid(positionObj)\n",
    "simDistance = 0\n",
    "for key, value in positionObj.items():\n",
    "    simDistance += graph.GetEuclideanDistance(centroid, value)\n",
    "print(f\"Sum of Euc Distance for: 'snowboard', 'pillow', 'tv', 'remote', 'carpet' = {simDistance}\")\n",
    "\n",
    "# New version that does it all.\n",
    "print(\"Euc distance between snowboard, pillow, tv, remote, carpet, Test 2\")\n",
    "toTest = ['snowboard', 'pillow', 'tv', 'remote', 'carpet']\n",
    "print(f\"Sum of Euc Distance for: 'snowboard', 'pillow', 'tv', 'remote', 'carpet' = {graph.FindEuclideanDistance(toTest)}\")\n",
    "\n",
    "print(\"Tesing if the function does what it should\")\n",
    "toTest = ['bed', 'snowboard', 'pillow', 'tv', 'remote', 'carpet']\n",
    "a, b ,c ,d = graph.GetLowestAndHighestEucDistance(toTest)\n",
    "print(a)\n",
    "print(c)\n",
    "\n",
    "print(b)\n",
    "print(d)"
   ]
  },
  {
   "cell_type": "code",
   "execution_count": null,
   "id": "dbc1ee2e",
   "metadata": {},
   "outputs": [],
   "source": [
    "object_annotation_path = \"dataset/annotations/instances_train2017.json\"\n",
    "object_annotations = COCO(annotation_file=object_annotation_path) "
   ]
  },
  {
   "cell_type": "code",
   "execution_count": null,
   "id": "69dff7eb",
   "metadata": {},
   "outputs": [],
   "source": [
    "stuff_annotation_path = \"dataset/annotations/stuff_train2017.json\"\n",
    "stuff_annotations = COCO(annotation_file=stuff_annotation_path)"
   ]
  },
  {
   "cell_type": "code",
   "execution_count": null,
   "id": "f7538391",
   "metadata": {},
   "outputs": [],
   "source": [
    "with open(\"IdLookup.txt\", \"r\") as f:\n",
    "    lookup = json.loads(f.read())"
   ]
  },
  {
   "cell_type": "code",
   "execution_count": null,
   "id": "b159a6fa",
   "metadata": {},
   "outputs": [],
   "source": [
    "# Creating a map of strings and arrays. Key will be the image id and value is an array of the object/stuff inside the picture.\n",
    "imagesAndObjects = {}\n",
    "imagesAndStuff = {}\n",
    "# Getting all the ids of the images in the coco dataset.\n",
    "imageIds = object_annotations.getImgIds()\n",
    "for image in imageIds:\n",
    "    #Loading the annotations from imageid\n",
    "    imageAnnotations = object_annotations.loadAnns(object_annotations.getAnnIds(image, iscrowd=None))\n",
    "    stuffInImage = stuff_annotations.loadAnns(stuff_annotations.getAnnIds(image, iscrowd=None))\n",
    "    \n",
    "    objects = []\n",
    "    for label in imageAnnotations:\n",
    "        #If there is a duplicate we do not want to append it.\n",
    "        if lookup[str(label['category_id'])] in objects:\n",
    "            continue\n",
    "        objects.append(lookup[str(label['category_id'])])\n",
    "        \n",
    "    stuff = []        \n",
    "    for label in stuffInImage:\n",
    "        if lookup[str(label['category_id'])] in stuff:\n",
    "            continue        \n",
    "        stuff.append(lookup[str(label['category_id'])])\n",
    "        \n",
    "    imagesAndObjects[str(image)] = objects\n",
    "    imagesAndStuff[str(image)] = stuff"
   ]
  },
  {
   "cell_type": "code",
   "execution_count": null,
   "id": "395d3250",
   "metadata": {},
   "outputs": [],
   "source": [
    "a = 0\n",
    "b = 0\n",
    "c = 0\n",
    "for key, value in imagesAndObjects.items():\n",
    "    if len(value) == 0:\n",
    "        a = a +1\n",
    "    if len(value) == 1:\n",
    "        b = b +1\n",
    "    if len(value) == 2:\n",
    "        c = c +1\n",
    "print(a)\n",
    "print(b)\n",
    "print(c)"
   ]
  },
  {
   "cell_type": "code",
   "execution_count": null,
   "id": "cae531ed",
   "metadata": {},
   "outputs": [],
   "source": [
    "lowHighEuclidian = {}\n",
    "for key, value in imagesAndObjects.items():\n",
    "    #If there are less than three unique objects in the image we skip\n",
    "    if len(value) < 2:\n",
    "        continue\n",
    "    low, high, lowExcluded, highExcluded = graph.GetLowestAndHighestEucDistance(value, imagesAndStuff[key])\n",
    "    lowHighEuclidian[key] = {'low': low, 'high': high, 'object': value, 'lowexcluded': lowExcluded, 'highexcluded': highExcluded}   "
   ]
  },
  {
   "cell_type": "code",
   "execution_count": null,
   "id": "699a4623",
   "metadata": {},
   "outputs": [],
   "source": [
    "lowHighEuclidian"
   ]
  },
  {
   "cell_type": "code",
   "execution_count": null,
   "id": "7bb0318d",
   "metadata": {},
   "outputs": [],
   "source": [
    "highestDelta = 1.4\n",
    "highestDict = {}\n",
    "for key, value in lowHighEuclidian.items():\n",
    "    delta = value['high'] - value['low']\n",
    "    if delta > highestDelta:\n",
    "        highestDict[key] = [value]\n",
    "        highestDict['delta'] = delta"
   ]
  },
  {
   "cell_type": "code",
   "execution_count": null,
   "id": "3e2bce02",
   "metadata": {},
   "outputs": [],
   "source": [
    "for key, value in highestDict.items():\n",
    "    #picture = object_annotations.loadAnns(object_annotations.getAnnIds(key, iscrowd=None))\n",
    "    if key == 'delta':\n",
    "        continue\n",
    "    img_info = object_annotations.loadImgs([int(key)])[0]\n",
    "    img_file_name = img_info[\"file_name\"]\n",
    "    img_full_path = f\"./Dataset/train2017/{img_file_name}\"\n",
    "    \n",
    "    img = cv2.imread(img_full_path)\n",
    "    cv2.imshow(f\"{value[0]['lowexcluded']} imageid: {key}\",img)\n",
    "    cv2.waitKey(0)\n",
    "    cv2.destroyAllWindows()"
   ]
  },
  {
   "cell_type": "code",
   "execution_count": null,
   "id": "270f1b0e",
   "metadata": {},
   "outputs": [],
   "source": []
  }
 ],
 "metadata": {
  "kernelspec": {
   "display_name": "Python 3 (ipykernel)",
   "language": "python",
   "name": "python3"
  },
  "language_info": {
   "codemirror_mode": {
    "name": "ipython",
    "version": 3
   },
   "file_extension": ".py",
   "mimetype": "text/x-python",
   "name": "python",
   "nbconvert_exporter": "python",
   "pygments_lexer": "ipython3",
   "version": "3.11.2"
  }
 },
 "nbformat": 4,
 "nbformat_minor": 5
}
