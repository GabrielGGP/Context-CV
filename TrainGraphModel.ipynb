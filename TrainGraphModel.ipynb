{
 "cells": [
  {
   "cell_type": "code",
   "execution_count": null,
   "id": "401b4b42",
   "metadata": {},
   "outputs": [],
   "source": [
    "from pycocotools.coco import COCO\n",
    "from CoOccuranceGraph import CoOccuranceGraph\n",
    "import json\n",
    "import cv2"
   ]
  },
  {
   "cell_type": "code",
   "execution_count": null,
   "id": "8bd4789a",
   "metadata": {
    "scrolled": true
   },
   "outputs": [],
   "source": [
    "#toOmit = [1, 183, 105]\n",
    "toOmit = []\n",
    "graph = CoOccuranceGraph(toOmit)\n",
    "toPrint = ['bus', 'car', 'elephant']\n",
    "print(graph.PositionOfObjects(toPrint))\n",
    "\n",
    "printXY = graph.PositionOfObjects(toPrint)\n",
    "\n",
    "print(graph.GetCentroid(printXY))\n",
    "centroid = graph.GetCentroid(printXY)\n",
    "for key, value in printXY.items():\n",
    "    print(key)\n",
    "    print(graph.GetEuclideanDistance(centroid, value))\n",
    "\n",
    "print(\"Euc distance between car and bus\")\n",
    "toTest = ['bus', 'car']\n",
    "positionObj = graph.PositionOfObjects(toTest)\n",
    "centroid = graph.GetCentroid(positionObj)\n",
    "simDistance = 0\n",
    "for key, value in positionObj.items():\n",
    "    simDistance += graph.GetEuclideanDistance(centroid, value)\n",
    "print(f\"Sum of Euc Distance for: 'bus', 'car' = {simDistance}\")\n",
    "\n",
    "print(\"Euc distance between car and elephant\")\n",
    "toTest = ['car', 'elephant']\n",
    "positionObj = graph.PositionOfObjects(toTest)\n",
    "centroid = graph.GetCentroid(positionObj)\n",
    "simDistance = 0\n",
    "for key, value in positionObj.items():\n",
    "    simDistance += graph.GetEuclideanDistance(centroid, value)\n",
    "print(f\"Sum of Euc Distance for: 'car', 'elephant' = {simDistance}\")\n",
    "\n",
    "print(\"Euc distance between bus and elephant\")\n",
    "toTest = ['bus', 'elephant']\n",
    "positionObj = graph.PositionOfObjects(toTest)\n",
    "centroid = graph.GetCentroid(positionObj)\n",
    "simDistance = 0\n",
    "for key, value in positionObj.items():\n",
    "    simDistance += graph.GetEuclideanDistance(centroid, value)\n",
    "print(f\"Sum of Euc Distance for: bus and elephant = {simDistance}\")\n",
    "\n",
    "\n",
    "print(\"Euc distance between bed, pillow, tv, remote, carpet\")\n",
    "toTest = ['bed', 'pillow', 'tv', 'remote', 'carpet']\n",
    "positionObj = graph.PositionOfObjects(toTest)\n",
    "centroid = graph.GetCentroid(positionObj)\n",
    "simDistance = 0\n",
    "for key, value in positionObj.items():\n",
    "    simDistance += graph.GetEuclideanDistance(centroid, value)\n",
    "print(f\"Sum of Euc Distance for: 'bed', 'pillow', 'tv', 'remote', 'carpet' = {simDistance}\")\n",
    "\n",
    "print(\"Euc distance between snowboard, pillow, tv, remote, carpet\")\n",
    "toTest = ['snowboard', 'pillow', 'tv', 'remote', 'carpet']\n",
    "positionObj = graph.PositionOfObjects(toTest)\n",
    "centroid = graph.GetCentroid(positionObj)\n",
    "simDistance = 0\n",
    "for key, value in positionObj.items():\n",
    "    simDistance += graph.GetEuclideanDistance(centroid, value)\n",
    "print(f\"Sum of Euc Distance for: 'snowboard', 'pillow', 'tv', 'remote', 'carpet' = {simDistance}\")\n",
    "\n",
    "# New version that does it all.\n",
    "print(\"Euc distance between snowboard, pillow, tv, remote, carpet, Test 2\")\n",
    "toTest = ['snowboard', 'pillow', 'tv', 'remote', 'carpet']\n",
    "print(f\"Sum of Euc Distance for: 'snowboard', 'pillow', 'tv', 'remote', 'carpet' = {graph.FindEuclideanDistance(toTest)}\")\n",
    "\n",
    "print(\"Tesing if the function does what it should\")\n",
    "toTest = ['bed', 'snowboard', 'pillow', 'tv', 'remote', 'carpet']\n",
    "a, b ,c ,d = graph.GetLowestAndHighestEucDistance(toTest)\n",
    "print(a)\n",
    "print(c)\n",
    "\n",
    "print(b)\n",
    "print(d)"
   ]
  },
  {
   "cell_type": "code",
   "execution_count": null,
   "id": "dbc1ee2e",
   "metadata": {},
   "outputs": [],
   "source": [
    "object_annotation_path = \"dataset/annotations/instances_train2017.json\"\n",
    "object_annotations = COCO(annotation_file=object_annotation_path) "
   ]
  },
  {
   "cell_type": "code",
   "execution_count": null,
   "id": "69dff7eb",
   "metadata": {},
   "outputs": [],
   "source": [
    "stuff_annotation_path = \"dataset/annotations/stuff_train2017.json\"\n",
    "stuff_annotations = COCO(annotation_file=stuff_annotation_path)"
   ]
  },
  {
   "cell_type": "code",
   "execution_count": null,
   "id": "f7538391",
   "metadata": {},
   "outputs": [],
   "source": [
    "with open(\"IdLookup.txt\", \"r\") as f:\n",
    "    lookup = json.loads(f.read())"
   ]
  },
  {
   "cell_type": "code",
   "execution_count": null,
   "id": "b159a6fa",
   "metadata": {},
   "outputs": [],
   "source": [
    "# Creating a map of strings and arrays. Key will be the image id and value is an array of the object/stuff inside the picture.\n",
    "imagesAndObjects = {}\n",
    "imagesAndStuff = {}\n",
    "# Getting all the ids of the images in the coco dataset.\n",
    "imageIds = object_annotations.getImgIds()\n",
    "for image in imageIds:\n",
    "    #Loading the annotations from imageid\n",
    "    imageAnnotations = object_annotations.loadAnns(object_annotations.getAnnIds(image, iscrowd=None))\n",
    "    stuffInImage = stuff_annotations.loadAnns(stuff_annotations.getAnnIds(image, iscrowd=None))\n",
    "    \n",
    "    objects = []\n",
    "    for label in imageAnnotations:\n",
    "        #If there is a duplicate we do not want to append it.\n",
    "        if lookup[str(label['category_id'])] in objects:\n",
    "            continue\n",
    "        objects.append(lookup[str(label['category_id'])])\n",
    "        \n",
    "    stuff = []        \n",
    "    for label in stuffInImage:\n",
    "        if lookup[str(label['category_id'])] in stuff:\n",
    "            continue        \n",
    "        stuff.append(lookup[str(label['category_id'])])\n",
    "        \n",
    "    imagesAndObjects[str(image)] = objects\n",
    "    imagesAndStuff[str(image)] = stuff"
   ]
  },
  {
   "cell_type": "code",
   "execution_count": null,
   "id": "395d3250",
   "metadata": {},
   "outputs": [],
   "source": [
    "a = 0\n",
    "b = 0\n",
    "c = 0\n",
    "for key, value in imagesAndObjects.items():\n",
    "    if len(value) == 0:\n",
    "        a = a +1\n",
    "    if len(value) == 1:\n",
    "        b = b +1\n",
    "    if len(value) == 2:\n",
    "        c = c +1\n",
    "print(a)\n",
    "print(b)\n",
    "print(c)"
   ]
  },
  {
   "cell_type": "code",
   "execution_count": null,
   "id": "cae531ed",
   "metadata": {},
   "outputs": [],
   "source": [
    "lowHighEuclidian = {}\n",
    "for key, value in imagesAndObjects.items():\n",
    "    #If there are less than three unique objects in the image we skip\n",
    "    low, high, lowExcluded, highExcluded = graph.GetLowestAndHighestEucDistance(value, imagesAndStuff[key])\n",
    "    lowHighEuclidian[key] = {'low': low, 'high': high, 'object': value, 'lowexcluded': lowExcluded, 'highexcluded': highExcluded}   "
   ]
  },
  {
   "cell_type": "code",
   "execution_count": null,
   "id": "699a4623",
   "metadata": {},
   "outputs": [],
   "source": [
    "lowHighEuclidian"
   ]
  },
  {
   "cell_type": "code",
   "execution_count": null,
   "id": "7bb0318d",
   "metadata": {},
   "outputs": [],
   "source": [
    "highestDelta = 1.4\n",
    "highestDict = {}\n",
    "for key, value in lowHighEuclidian.items():\n",
    "    delta = value['high'] - value['low']\n",
    "    if delta > highestDelta:\n",
    "        highestDict[key] = [value]\n",
    "        highestDict['delta'] = delta"
   ]
  },
  {
   "cell_type": "code",
   "execution_count": null,
   "id": "3e2bce02",
   "metadata": {},
   "outputs": [],
   "source": [
    "import matplotlib.pyplot as plt\n",
    "import numpy as np\n",
    "for key, value in highestDict.items():\n",
    "    #picture = object_annotations.loadAnns(object_annotations.getAnnIds(key, iscrowd=None))\n",
    "    if key == 'delta':\n",
    "        continue\n",
    "    img_info = object_annotations.loadImgs([int(key)])[0]\n",
    "    img_file_name = img_info[\"file_name\"]\n",
    "    img_full_path = f\"./dataset/coco/images/train2017/{img_file_name}\"\n",
    "    img = cv2.imread(img_full_path)\n",
    "    \n",
    "    saveTo = \"./OutliarWithBoxes/\"\n",
    "    annotationId = object_annotations.getAnnIds(imgIds=[key], iscrowd=None)\n",
    "    #annotations = object_annotations.loadAnns(annotationId)\n",
    "    annotations = object_annotations.loadAnns(object_annotations.getAnnIds(int(key), iscrowd=None))\n",
    "    outliarAnns = []\n",
    "    for i in annotations:\n",
    "        if lookup[str(i['category_id'])] == value[0]['lowexcluded']:\n",
    "            outliarAnns.append(i)\n",
    "            \n",
    "    #Saving all the anomalous images\n",
    "    plt.axis(\"off\")\n",
    "    plt.imshow(np.asarray(img))\n",
    "    object_annotations.showAnns(outliarAnns)\n",
    "    plt.savefig(f\"{saveTo}{value[0]['lowexcluded']}_{key}_annotated.jpg\", bbox_inches=\"tight\", pad_inches=0)\n",
    "    plt.clf()\n",
    "    #cv2.imshow(f\"{value[0]['lowexcluded']} imageid: {key}\",img)\n",
    "    #cv2.waitKey(0)\n",
    "    #cv2.destroyAllWindows()"
   ]
  },
  {
   "cell_type": "markdown",
   "id": "5df83896",
   "metadata": {},
   "source": [
    "# Adding the anomalous pictures to a dictionary and giving a reason for as to why they were removed.\n",
    "## As before we will loop through the lowhigh euclidian to check which pictures fall into the threshhold, this time we will add the anomalus picture to a dtictionary."
   ]
  },
  {
   "cell_type": "code",
   "execution_count": null,
   "id": "0bcc8e2c",
   "metadata": {},
   "outputs": [],
   "source": [
    "print(len(lowHighEuclidian))\n"
   ]
  },
  {
   "cell_type": "code",
   "execution_count": null,
   "id": "77e4b010",
   "metadata": {},
   "outputs": [],
   "source": [
    "# Output was 0.659999999999999 before, should be: 0.66 importing this module to try and maake it 0.66 (Worked)\n",
    "from decimal import Decimal as D\n",
    "percentageToExclude = 5\n",
    "amountOfImages = len(lowHighEuclidian)\n",
    "#Images to be removed from the dataset {<image>: Reason for removal}\n",
    "toBeRemoved = {}\n",
    "#Starting delta value(Can be tested manually above)\n",
    "highestDelta = D(\"1.8\")\n",
    "previousDelta = D(\"1.81\")\n",
    "while len(toBeRemoved)/amountOfImages* 100 < 5:\n",
    "    previousDelta -= D(\"0.01\")\n",
    "    highestDelta -= D(\"0.01\")\n",
    "    for key, value in lowHighEuclidian.items():\n",
    "        delta = value['high'] - value['low']\n",
    "        if delta >= highestDelta and delta < previousDelta:\n",
    "            toBeRemoved[key] = [value]\n",
    "            toBeRemoved['delta'] = delta\n",
    "print(f\"Done removing {percentageToExclude}% of anomalous pictures.\")\n",
    "print(f\"The delta for the last itteration was: {highestDelta}\")"
   ]
  },
  {
   "cell_type": "code",
   "execution_count": null,
   "id": "6da8cceb",
   "metadata": {},
   "outputs": [],
   "source": [
    "len(toBeRemoved)"
   ]
  },
  {
   "cell_type": "code",
   "execution_count": null,
   "id": "75831028",
   "metadata": {},
   "outputs": [],
   "source": [
    "toBeRemoved"
   ]
  },
  {
   "cell_type": "code",
   "execution_count": null,
   "id": "339df693",
   "metadata": {},
   "outputs": [],
   "source": []
  }
 ],
 "metadata": {
  "kernelspec": {
   "display_name": "Python 3 (ipykernel)",
   "language": "python",
   "name": "python3"
  },
  "language_info": {
   "codemirror_mode": {
    "name": "ipython",
    "version": 3
   },
   "file_extension": ".py",
   "mimetype": "text/x-python",
   "name": "python",
   "nbconvert_exporter": "python",
   "pygments_lexer": "ipython3",
   "version": "3.11.2"
  }
 },
 "nbformat": 4,
 "nbformat_minor": 5
}
