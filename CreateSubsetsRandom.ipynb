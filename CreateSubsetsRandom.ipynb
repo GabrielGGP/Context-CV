{
 "cells": [
  {
   "cell_type": "code",
   "execution_count": 57,
   "id": "1c901826",
   "metadata": {},
   "outputs": [],
   "source": [
    "import json\n",
    "import random\n",
    "from CoOccuranceGraph import CoOccuranceGraph"
   ]
  },
  {
   "cell_type": "code",
   "execution_count": 58,
   "id": "a4a418c8",
   "metadata": {},
   "outputs": [],
   "source": [
    "# Function is defined in notebook due to error when trying to call function in class\n",
    "def RemovePercentageOfImagesRandom(pathtofiles, percentagetoremove, subsetofimages, seed):\n",
    "        subset = []\n",
    "        subsetDict = {}\n",
    "\n",
    "        # Update random set for reproducibility\n",
    "        random.seed(seed)\n",
    "\n",
    "        amountOfImages = len(subsetofimages)\n",
    " \n",
    "        # Images to be removed from the dataset {<image>: Reason for removal}\n",
    "        toBeRemoved = []\n",
    "\n",
    "        while len(toBeRemoved) / amountOfImages * 100 < percentagetoremove:\n",
    "            # Randomize number\n",
    "            index = random.randrange(amountOfImages)\n",
    "            if not toBeRemoved:\n",
    "                toBeRemoved.append(index)\n",
    "            else:\n",
    "                if index not in toBeRemoved:\n",
    "                    toBeRemoved.append(index)\n",
    "            break\n",
    "\n",
    "        print(f\"Done removing {percentagetoremove}% of anomalous pictures.\")\n",
    "        # We remove all the anomalous images from the subsetofimages list.\n",
    "        for i in subsetofimages:\n",
    "            if i in toBeRemoved:\n",
    "                continue\n",
    "            subset.append(i)\n",
    "\n",
    "        # We save the new list of images to be used in the folder we were given.\n",
    "        subsetDict[\"images\"] = subset\n",
    "        with open(f\"{pathtofiles}image_list.json\", \"w\") as f:\n",
    "            f.write(json.dumps(subsetDict))\n",
    "        print(f\"Saved a new subset where {percentagetoremove}% of images are removed to {pathtofiles}image_list.json\")\n",
    "        return subset"
   ]
  },
  {
   "cell_type": "code",
   "execution_count": 59,
   "id": "a19ceb22",
   "metadata": {},
   "outputs": [],
   "source": [
    "subset = json.load(open(\"image_list.json\"))"
   ]
  },
  {
   "cell_type": "code",
   "execution_count": null,
   "id": "11c570a0",
   "metadata": {},
   "outputs": [
    {
     "data": {
      "image/png": "[encoded data removed]",
      "text/plain": [
       "<Figure size 640x480 with 1 Axes>"
      ]
     },
     "metadata": {},
     "output_type": "display_data"
    }
   ],
   "source": [
    "graph = CoOccuranceGraph(subsetofimages = subset[\"images\"])"
   ]
  },
  {
   "cell_type": "code",
   "execution_count": 56,
   "id": "d0fe41e8",
   "metadata": {},
   "outputs": [
    {
     "name": "stdout",
     "output_type": "stream",
     "text": [
      "Done removing 5% of anomalous pictures.\n",
      "Saved a new subset where 5% of images are removed to ./SubsetRandom/five/image_list.json\n"
     ]
    }
   ],
   "source": [
    "fivePercentRemoved = RemovePercentageOfImagesRandom(pathtofiles = \"./SubsetRandom/five/\", percentagetoremove = 5, subsetofimages = subset[\"images\"], seed=0)"
   ]
  },
  {
   "cell_type": "code",
   "execution_count": 56,
   "id": "dc240eee",
   "metadata": {},
   "outputs": [
    {
     "name": "stdout",
     "output_type": "stream",
     "text": [
      "Done removing 5% of anomalous pictures.\n",
      "Saved a new subset where 5% of images are removed to ./SubsetRandom/five/image_list.json\n"
     ]
    }
   ],
   "source": [
    "tenPercentRemoved = RemovePercentageOfImagesRandom(pathtofiles = \"./SubsetRandom/ten/\", percentagetoremove = 10, subsetofimages = subset[\"images\"], seed=0)"
   ]
  },
  {
   "cell_type": "code",
   "execution_count": 56,
   "id": "d033b378",
   "metadata": {},
   "outputs": [
    {
     "name": "stdout",
     "output_type": "stream",
     "text": [
      "Done removing 5% of anomalous pictures.\n",
      "Saved a new subset where 5% of images are removed to ./SubsetRandom/five/image_list.json\n"
     ]
    }
   ],
   "source": [
    "twentyPercentRemoved = RemovePercentageOfImagesRandom(pathtofiles = \"./SubsetRandom/five/\", percentagetoremove = 20, subsetofimages = subset[\"images\"], seed=0)"
   ]
  },
  {
   "cell_type": "code",
   "execution_count": null,
   "id": "67774e8c",
   "metadata": {},
   "outputs": [],
   "source": []
  }
 ],
 "metadata": {
  "kernelspec": {
   "display_name": "Python 3 (ipykernel)",
   "language": "python",
   "name": "python3"
  },
  "language_info": {
   "codemirror_mode": {
    "name": "ipython",
    "version": 3
   },
   "file_extension": ".py",
   "mimetype": "text/x-python",
   "name": "python",
   "nbconvert_exporter": "python",
   "pygments_lexer": "ipython3",
   "version": "3.9.13"
  }
 },
 "nbformat": 4,
 "nbformat_minor": 5
}
