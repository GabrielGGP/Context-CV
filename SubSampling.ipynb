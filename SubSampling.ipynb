{
 "cells": [
  {
   "cell_type": "code",
   "execution_count": 1,
   "id": "59e7ed2c",
   "metadata": {},
   "outputs": [],
   "source": [
    "from pycocotools.coco import COCO\n",
    "import json"
   ]
  },
  {
   "cell_type": "code",
   "execution_count": 2,
   "id": "fbd1daad",
   "metadata": {},
   "outputs": [],
   "source": [
    "object_annotation_path = \"dataset/annotations/instances_train2017.json\""
   ]
  },
  {
   "cell_type": "code",
   "execution_count": null,
   "id": "64c67fb5",
   "metadata": {},
   "outputs": [
    {
     "name": "stdout",
     "output_type": "stream",
     "text": [
      "loading annotations into memory...\n"
     ]
    }
   ],
   "source": [
    "object_annotations = COCO(annotation_file=object_annotation_path)"
   ]
  },
  {
   "cell_type": "code",
   "execution_count": null,
   "id": "0019cfb6",
   "metadata": {},
   "outputs": [],
   "source": [
    "imageIds = object_annotations.getImgIds()"
   ]
  },
  {
   "cell_type": "code",
   "execution_count": null,
   "id": "4ccbb420",
   "metadata": {},
   "outputs": [],
   "source": [
    "with open(\"IdLookup.txt\", \"r\") as f:\n",
    "    lookup = json.loads(f.read())"
   ]
  },
  {
   "cell_type": "code",
   "execution_count": null,
   "id": "72e59b01",
   "metadata": {},
   "outputs": [],
   "source": [
    "imagesAndObjects = {}\n",
    "objectsInDataset ={}\n",
    "backgroundImages = []\n",
    "\n",
    "for image in imageIds:\n",
    "    imageAnnotations = object_annotations.loadAnns(object_annotations.getAnnIds(image, iscrowd=None))\n",
    "    objects = []\n",
    "    for label in imageAnnotations:\n",
    "        objects.append(lookup[str(label['category_id'])])\n",
    "        \n",
    "    if(objects == []):\n",
    "        backgroundImages.append(image)\n",
    "    else:\n",
    "        imagesAndObjects[str(image)] = objects"
   ]
  },
  {
   "cell_type": "markdown",
   "id": "26a982d0",
   "metadata": {},
   "source": [
    "# Images per class. ≥ 1500 images per class recommended\n",
    "# Instances per class. ≥ 10000 instances (labeled objects) per class recommended\n",
    "# . Background images are images with no objects that are added to a dataset to reduce False Positives (FP). We recommend about 0-10% background images to help reduce FPs"
   ]
  },
  {
   "cell_type": "code",
   "execution_count": null,
   "id": "30755ccf",
   "metadata": {},
   "outputs": [],
   "source": [
    "imagesAndObjects"
   ]
  },
  {
   "cell_type": "code",
   "execution_count": null,
   "id": "2170c0b8",
   "metadata": {},
   "outputs": [],
   "source": [
    "backgroundImages"
   ]
  },
  {
   "cell_type": "code",
   "execution_count": null,
   "id": "10fdd1d2",
   "metadata": {},
   "outputs": [],
   "source": [
    "#We add all the background images and check if they are not larger than 10% of the dataset.\n",
    "imagesForDataset = {}\n",
    "for i in backgroundImages:\n",
    "    imagesForDataset[str(i)] = ['background']\n"
   ]
  },
  {
   "cell_type": "code",
   "execution_count": null,
   "id": "1a634549",
   "metadata": {},
   "outputs": [],
   "source": [
    "imagesForDataset"
   ]
  },
  {
   "cell_type": "code",
   "execution_count": null,
   "id": "0e890dbf",
   "metadata": {},
   "outputs": [],
   "source": [
    "len(imagesForDataset)"
   ]
  },
  {
   "cell_type": "code",
   "execution_count": null,
   "id": "f4e72005",
   "metadata": {},
   "outputs": [],
   "source": [
    "cat_ids = object_annotations.getCatIds()\n",
    "cats = object_annotations.loadCats(cat_ids)"
   ]
  },
  {
   "cell_type": "code",
   "execution_count": null,
   "id": "c27068f1",
   "metadata": {},
   "outputs": [],
   "source": [
    "cats"
   ]
  },
  {
   "cell_type": "code",
   "execution_count": null,
   "id": "ca3135ae",
   "metadata": {},
   "outputs": [],
   "source": [
    "#Create a list of every object where we count how many instances are in the dataset.\n",
    "instancesInDataset = {}\n",
    "for i in cats:\n",
    "    instancesInDataset[i['name']] = 0\n",
    "    \n",
    "#Get all images containing the object for each object.\n",
    "for cat in cats:\n",
    "    imageId = object_annotations.getImgIds(catIds=[cat['id']])\n",
    "    for image in imageId:\n",
    "        #We stop at 15000 instances.\n",
    "        if instancesInDataset[cat['name']] > 15000:\n",
    "            print(f\"Done working on {[cat['name']]}\")\n",
    "            break\n",
    "        if str(image) in imagesForDataset:\n",
    "            continue\n",
    "        #If the image passes all the checks we add the image to the dataset.\n",
    "        #We increment all the object intances found in the image.\n",
    "        imageAnnotations = object_annotations.loadAnns(object_annotations.getAnnIds(image, iscrowd=None))\n",
    "        imagesForDataset[str(image)] = imagesAndObjects[str(image)]\n",
    "        for label in imageAnnotations:\n",
    "            instancesInDataset[lookup[str(label['category_id'])]] = instancesInDataset[lookup[str(label['category_id'])]] + 1\n",
    "        "
   ]
  },
  {
   "cell_type": "code",
   "execution_count": null,
   "id": "004f4d2f",
   "metadata": {},
   "outputs": [],
   "source": [
    "imagesForDataset"
   ]
  },
  {
   "cell_type": "code",
   "execution_count": null,
   "id": "c84b53a4",
   "metadata": {},
   "outputs": [],
   "source": [
    "len(imagesForDataset)"
   ]
  },
  {
   "cell_type": "code",
   "execution_count": null,
   "id": "49a01063",
   "metadata": {},
   "outputs": [],
   "source": [
    "instancesInDataset"
   ]
  },
  {
   "cell_type": "code",
   "execution_count": null,
   "id": "a42ee529",
   "metadata": {},
   "outputs": [],
   "source": [
    "#We need to rearrange the order of these so that the once with the smallest numbers are done first.\n",
    "sortedDict = dict(sorted(instancesInDataset.items(), key=lambda item: item[1]))"
   ]
  },
  {
   "cell_type": "code",
   "execution_count": null,
   "id": "c29faf9f",
   "metadata": {},
   "outputs": [],
   "source": [
    "#Now we redo the loop except will will add the items to the list of images to see if there is a decrease.\n",
    "imagesForDataset = {}\n",
    "for i in backgroundImages:\n",
    "    imagesForDataset[str(i)] = ['background']\n",
    "    \n",
    "#instead of using cats as our main loop we will use instancesInDataset which is a sorted dictionary(We will first dump the contents into a list)\n",
    "newInstancesInDataset = {}\n",
    "for key in sortedDict:\n",
    "    newInstancesInDataset[key] = 0\n",
    "    \n",
    "print(newInstancesInDataset)\n",
    "for cat in newInstancesInDataset:    \n",
    "    imageId = object_annotations.getImgIds(catIds=[object_annotations.getCatIds(catNms=[cat])[0]])\n",
    "    for image in imageId:\n",
    "        #We stop at 15000 instances.\n",
    "        if newInstancesInDataset[cat] > 15000:\n",
    "            print(f\"Done working on {cat}\")\n",
    "            break\n",
    "        if str(image) in imagesForDataset:\n",
    "            continue\n",
    "        #If the image passes all the checks we add the image to the dataset.\n",
    "        #We increment all the object intances found in the image.\n",
    "        imageAnnotations = object_annotations.loadAnns(object_annotations.getAnnIds(image, iscrowd=None))\n",
    "        imagesForDataset[str(image)] = imagesAndObjects[str(image)]\n",
    "        for label in imageAnnotations:\n",
    "            newInstancesInDataset[lookup[str(label['category_id'])]] = newInstancesInDataset[lookup[str(label['category_id'])]] + 1"
   ]
  },
  {
   "cell_type": "code",
   "execution_count": null,
   "id": "cc682c98",
   "metadata": {},
   "outputs": [],
   "source": [
    "print(len(imagesForDataset))"
   ]
  },
  {
   "cell_type": "code",
   "execution_count": null,
   "id": "6f1cef50",
   "metadata": {},
   "outputs": [],
   "source": [
    "#This sucks"
   ]
  }
 ],
 "metadata": {
  "kernelspec": {
   "display_name": "Python 3 (ipykernel)",
   "language": "python",
   "name": "python3"
  },
  "language_info": {
   "codemirror_mode": {
    "name": "ipython",
    "version": 3
   },
   "file_extension": ".py",
   "mimetype": "text/x-python",
   "name": "python",
   "nbconvert_exporter": "python",
   "pygments_lexer": "ipython3",
   "version": "3.11.2"
  }
 },
 "nbformat": 4,
 "nbformat_minor": 5
}
