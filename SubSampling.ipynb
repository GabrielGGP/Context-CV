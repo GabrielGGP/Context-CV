{
 "cells": [
  {
   "cell_type": "code",
   "execution_count": 1,
   "id": "59e7ed2c",
   "metadata": {},
   "outputs": [
    {
     "ename": "KeyboardInterrupt",
     "evalue": "",
     "output_type": "error",
     "traceback": [
      "\u001b[1;31m---------------------------------------------------------------------------\u001b[0m",
      "\u001b[1;31mKeyboardInterrupt\u001b[0m                         Traceback (most recent call last)",
      "Cell \u001b[1;32mIn[1], line 1\u001b[0m\n\u001b[1;32m----> 1\u001b[0m \u001b[38;5;28;01mfrom\u001b[39;00m \u001b[38;5;21;01mpycocotools\u001b[39;00m\u001b[38;5;21;01m.\u001b[39;00m\u001b[38;5;21;01mcoco\u001b[39;00m \u001b[38;5;28;01mimport\u001b[39;00m COCO\n\u001b[0;32m      2\u001b[0m \u001b[38;5;28;01mimport\u001b[39;00m \u001b[38;5;21;01mjson\u001b[39;00m\n",
      "File \u001b[1;32mZ:\\Context-CV\\pycocotools\\coco.py:49\u001b[0m\n\u001b[0;32m     47\u001b[0m \u001b[38;5;28;01mimport\u001b[39;00m \u001b[38;5;21;01mjson\u001b[39;00m\n\u001b[0;32m     48\u001b[0m \u001b[38;5;28;01mimport\u001b[39;00m \u001b[38;5;21;01mtime\u001b[39;00m\n\u001b[1;32m---> 49\u001b[0m \u001b[38;5;28;01mimport\u001b[39;00m \u001b[38;5;21;01mmatplotlib\u001b[39;00m\u001b[38;5;21;01m.\u001b[39;00m\u001b[38;5;21;01mpyplot\u001b[39;00m \u001b[38;5;28;01mas\u001b[39;00m \u001b[38;5;21;01mplt\u001b[39;00m\n\u001b[0;32m     50\u001b[0m \u001b[38;5;28;01mfrom\u001b[39;00m \u001b[38;5;21;01mmatplotlib\u001b[39;00m\u001b[38;5;21;01m.\u001b[39;00m\u001b[38;5;21;01mcollections\u001b[39;00m \u001b[38;5;28;01mimport\u001b[39;00m PatchCollection\n\u001b[0;32m     51\u001b[0m \u001b[38;5;28;01mfrom\u001b[39;00m \u001b[38;5;21;01mmatplotlib\u001b[39;00m\u001b[38;5;21;01m.\u001b[39;00m\u001b[38;5;21;01mpatches\u001b[39;00m \u001b[38;5;28;01mimport\u001b[39;00m Polygon\n",
      "File \u001b[1;32m~\\AppData\\Local\\Programs\\Python\\Python311\\Lib\\site-packages\\matplotlib\\__init__.py:108\u001b[0m\n\u001b[0;32m    105\u001b[0m \u001b[38;5;28;01mimport\u001b[39;00m \u001b[38;5;21;01mtempfile\u001b[39;00m\n\u001b[0;32m    106\u001b[0m \u001b[38;5;28;01mimport\u001b[39;00m \u001b[38;5;21;01mwarnings\u001b[39;00m\n\u001b[1;32m--> 108\u001b[0m \u001b[38;5;28;01mimport\u001b[39;00m \u001b[38;5;21;01mnumpy\u001b[39;00m\n\u001b[0;32m    109\u001b[0m \u001b[38;5;28;01mfrom\u001b[39;00m \u001b[38;5;21;01mpackaging\u001b[39;00m\u001b[38;5;21;01m.\u001b[39;00m\u001b[38;5;21;01mversion\u001b[39;00m \u001b[38;5;28;01mimport\u001b[39;00m parse \u001b[38;5;28;01mas\u001b[39;00m parse_version\n\u001b[0;32m    111\u001b[0m \u001b[38;5;66;03m# cbook must import matplotlib only within function\u001b[39;00m\n\u001b[0;32m    112\u001b[0m \u001b[38;5;66;03m# definitions, so it is safe to import from it here.\u001b[39;00m\n",
      "File \u001b[1;32m~\\AppData\\Local\\Programs\\Python\\Python311\\Lib\\site-packages\\numpy\\__init__.py:154\u001b[0m\n\u001b[0;32m    152\u001b[0m \u001b[38;5;28;01mfrom\u001b[39;00m \u001b[38;5;21;01m.\u001b[39;00m \u001b[38;5;28;01mimport\u001b[39;00m random\n\u001b[0;32m    153\u001b[0m \u001b[38;5;28;01mfrom\u001b[39;00m \u001b[38;5;21;01m.\u001b[39;00m \u001b[38;5;28;01mimport\u001b[39;00m ctypeslib\n\u001b[1;32m--> 154\u001b[0m \u001b[38;5;28;01mfrom\u001b[39;00m \u001b[38;5;21;01m.\u001b[39;00m \u001b[38;5;28;01mimport\u001b[39;00m ma\n\u001b[0;32m    155\u001b[0m \u001b[38;5;28;01mfrom\u001b[39;00m \u001b[38;5;21;01m.\u001b[39;00m \u001b[38;5;28;01mimport\u001b[39;00m matrixlib \u001b[38;5;28;01mas\u001b[39;00m _mat\n\u001b[0;32m    156\u001b[0m \u001b[38;5;28;01mfrom\u001b[39;00m \u001b[38;5;21;01m.\u001b[39;00m\u001b[38;5;21;01mmatrixlib\u001b[39;00m \u001b[38;5;28;01mimport\u001b[39;00m \u001b[38;5;241m*\u001b[39m\n",
      "File \u001b[1;32m~\\AppData\\Local\\Programs\\Python\\Python311\\Lib\\site-packages\\numpy\\ma\\__init__.py:45\u001b[0m\n\u001b[0;32m     42\u001b[0m \u001b[38;5;28;01mfrom\u001b[39;00m \u001b[38;5;21;01m.\u001b[39;00m \u001b[38;5;28;01mimport\u001b[39;00m core\n\u001b[0;32m     43\u001b[0m \u001b[38;5;28;01mfrom\u001b[39;00m \u001b[38;5;21;01m.\u001b[39;00m\u001b[38;5;21;01mcore\u001b[39;00m \u001b[38;5;28;01mimport\u001b[39;00m \u001b[38;5;241m*\u001b[39m\n\u001b[1;32m---> 45\u001b[0m \u001b[38;5;28;01mfrom\u001b[39;00m \u001b[38;5;21;01m.\u001b[39;00m \u001b[38;5;28;01mimport\u001b[39;00m extras\n\u001b[0;32m     46\u001b[0m \u001b[38;5;28;01mfrom\u001b[39;00m \u001b[38;5;21;01m.\u001b[39;00m\u001b[38;5;21;01mextras\u001b[39;00m \u001b[38;5;28;01mimport\u001b[39;00m \u001b[38;5;241m*\u001b[39m\n\u001b[0;32m     48\u001b[0m __all__ \u001b[38;5;241m=\u001b[39m [\u001b[38;5;124m'\u001b[39m\u001b[38;5;124mcore\u001b[39m\u001b[38;5;124m'\u001b[39m, \u001b[38;5;124m'\u001b[39m\u001b[38;5;124mextras\u001b[39m\u001b[38;5;124m'\u001b[39m]\n",
      "File \u001b[1;32m<frozen importlib._bootstrap>:1178\u001b[0m, in \u001b[0;36m_find_and_load\u001b[1;34m(name, import_)\u001b[0m\n",
      "File \u001b[1;32m<frozen importlib._bootstrap>:1140\u001b[0m, in \u001b[0;36m_find_and_load_unlocked\u001b[1;34m(name, import_)\u001b[0m\n",
      "File \u001b[1;32m<frozen importlib._bootstrap>:1080\u001b[0m, in \u001b[0;36m_find_spec\u001b[1;34m(name, path, target)\u001b[0m\n",
      "File \u001b[1;32m<frozen importlib._bootstrap_external>:1504\u001b[0m, in \u001b[0;36mfind_spec\u001b[1;34m(cls, fullname, path, target)\u001b[0m\n",
      "File \u001b[1;32m<frozen importlib._bootstrap_external>:1476\u001b[0m, in \u001b[0;36m_get_spec\u001b[1;34m(cls, fullname, path, target)\u001b[0m\n",
      "File \u001b[1;32m<frozen importlib._bootstrap_external>:1612\u001b[0m, in \u001b[0;36mfind_spec\u001b[1;34m(self, fullname, target)\u001b[0m\n",
      "File \u001b[1;32m<frozen importlib._bootstrap_external>:147\u001b[0m, in \u001b[0;36m_path_stat\u001b[1;34m(path)\u001b[0m\n",
      "\u001b[1;31mKeyboardInterrupt\u001b[0m: "
     ]
    }
   ],
   "source": [
    "from pycocotools.coco import COCO\n",
    "import json"
   ]
  },
  {
   "cell_type": "code",
   "execution_count": null,
   "id": "fbd1daad",
   "metadata": {},
   "outputs": [],
   "source": [
    "object_annotation_path = \"dataset/annotations/instances_train2017.json\""
   ]
  },
  {
   "cell_type": "code",
   "execution_count": null,
   "id": "64c67fb5",
   "metadata": {},
   "outputs": [],
   "source": [
    "object_annotations = COCO(annotation_file=object_annotation_path)"
   ]
  },
  {
   "cell_type": "code",
   "execution_count": null,
   "id": "0019cfb6",
   "metadata": {},
   "outputs": [],
   "source": [
    "imageIds = object_annotations.getImgIds()"
   ]
  },
  {
   "cell_type": "code",
   "execution_count": null,
   "id": "4ccbb420",
   "metadata": {},
   "outputs": [],
   "source": [
    "with open(\"IdLookup.txt\", \"r\") as f:\n",
    "    lookup = json.loads(f.read())"
   ]
  },
  {
   "cell_type": "code",
   "execution_count": null,
   "id": "72e59b01",
   "metadata": {},
   "outputs": [],
   "source": [
    "imagesAndObjects = {}\n",
    "objectsInDataset ={}\n",
    "backgroundImages = []\n",
    "\n",
    "for image in imageIds:\n",
    "    imageAnnotations = object_annotations.loadAnns(object_annotations.getAnnIds(image, iscrowd=None))\n",
    "    objects = []\n",
    "    for label in imageAnnotations:\n",
    "        objects.append(lookup[str(label['category_id'])])\n",
    "        \n",
    "    if(objects == []):\n",
    "        backgroundImages.append(image)\n",
    "    else:\n",
    "        imagesAndObjects[str(image)] = objects"
   ]
  },
  {
   "cell_type": "markdown",
   "id": "26a982d0",
   "metadata": {},
   "source": [
    "# Images per class. ≥ 1500 images per class recommended\n",
    "# Instances per class. ≥ 10000 instances (labeled objects) per class recommended\n",
    "# . Background images are images with no objects that are added to a dataset to reduce False Positives (FP). We recommend about 0-10% background images to help reduce FPs"
   ]
  },
  {
   "cell_type": "code",
   "execution_count": null,
   "id": "30755ccf",
   "metadata": {},
   "outputs": [],
   "source": [
    "imagesAndObjects"
   ]
  },
  {
   "cell_type": "code",
   "execution_count": null,
   "id": "2170c0b8",
   "metadata": {},
   "outputs": [],
   "source": [
    "backgroundImages"
   ]
  },
  {
   "cell_type": "code",
   "execution_count": null,
   "id": "10fdd1d2",
   "metadata": {},
   "outputs": [],
   "source": [
    "#We add all the background images and check if they are not larger than 10% of the dataset.\n",
    "imagesForDataset = {}\n",
    "for i in backgroundImages:\n",
    "    imagesForDataset[str(i)] = ['background']\n"
   ]
  },
  {
   "cell_type": "code",
   "execution_count": null,
   "id": "1a634549",
   "metadata": {},
   "outputs": [],
   "source": [
    "imagesForDataset"
   ]
  },
  {
   "cell_type": "code",
   "execution_count": null,
   "id": "0e890dbf",
   "metadata": {},
   "outputs": [],
   "source": [
    "len(imagesForDataset)"
   ]
  },
  {
   "cell_type": "code",
   "execution_count": null,
   "id": "f4e72005",
   "metadata": {},
   "outputs": [],
   "source": [
    "cat_ids = object_annotations.getCatIds()\n",
    "cats = object_annotations.loadCats(cat_ids)"
   ]
  },
  {
   "cell_type": "code",
   "execution_count": null,
   "id": "c27068f1",
   "metadata": {},
   "outputs": [],
   "source": [
    "cats"
   ]
  },
  {
   "cell_type": "code",
   "execution_count": null,
   "id": "ca3135ae",
   "metadata": {},
   "outputs": [],
   "source": [
    "#Create a list of every object where we count how many instances are in the dataset.\n",
    "instancesInDataset = {}\n",
    "for i in cats:\n",
    "    instancesInDataset[i['name']] = 0\n",
    "    \n",
    "#Get all images containing the object for each object.\n",
    "for cat in cats:\n",
    "    imageId = object_annotations.getImgIds(catIds=[cat['id']])\n",
    "    for image in imageId:\n",
    "        #We stop at 15000 instances.\n",
    "        if instancesInDataset[cat['name']] > 15000:\n",
    "            print(f\"Done working on {[cat['name']]}\")\n",
    "            break\n",
    "        if str(image) in imagesForDataset:\n",
    "            continue\n",
    "        #If the image passes all the checks we add the image to the dataset.\n",
    "        #We increment all the object intances found in the image.\n",
    "        imageAnnotations = object_annotations.loadAnns(object_annotations.getAnnIds(image, iscrowd=None))\n",
    "        imagesForDataset[str(image)] = imagesAndObjects[str(image)]\n",
    "        for label in imageAnnotations:\n",
    "            instancesInDataset[lookup[str(label['category_id'])]] = instancesInDataset[lookup[str(label['category_id'])]] + 1\n",
    "        "
   ]
  },
  {
   "cell_type": "code",
   "execution_count": null,
   "id": "004f4d2f",
   "metadata": {},
   "outputs": [],
   "source": [
    "imagesForDataset"
   ]
  },
  {
   "cell_type": "code",
   "execution_count": null,
   "id": "c84b53a4",
   "metadata": {},
   "outputs": [],
   "source": [
    "len(imagesForDataset)"
   ]
  },
  {
   "cell_type": "code",
   "execution_count": null,
   "id": "49a01063",
   "metadata": {},
   "outputs": [],
   "source": [
    "instancesInDataset"
   ]
  },
  {
   "cell_type": "code",
   "execution_count": null,
   "id": "a42ee529",
   "metadata": {},
   "outputs": [],
   "source": [
    "#We need to rearrange the order of these so that the once with the smallest numbers are done first.\n",
    "sortedDict = dict(sorted(instancesInDataset.items(), key=lambda item: item[1]))"
   ]
  },
  {
   "cell_type": "code",
   "execution_count": null,
   "id": "c29faf9f",
   "metadata": {},
   "outputs": [],
   "source": [
    "#Now we redo the loop except will will add the items to the list of images to see if there is a decrease.\n",
    "imagesForDataset = {}\n",
    "for i in backgroundImages:\n",
    "    imagesForDataset[str(i)] = ['background']\n",
    "    \n",
    "#instead of using cats as our main loop we will use instancesInDataset which is a sorted dictionary(We will first dump the contents into a list)\n",
    "newInstancesInDataset = {}\n",
    "for key in sortedDict:\n",
    "    newInstancesInDataset[key] = 0\n",
    "    \n",
    "for cat in newInstancesInDataset:    \n",
    "    imageId = object_annotations.getImgIds(catIds=[object_annotations.getCatIds(catNms=[cat])[0]])\n",
    "    for image in imageId:\n",
    "        #We stop at 15000 instances.\n",
    "        if newInstancesInDataset[cat] > 1000:\n",
    "            print(f\"Done working on {cat}\")\n",
    "            break\n",
    "        if str(image) in imagesForDataset:\n",
    "            continue\n",
    "        #If the image passes all the checks we add the image to the dataset.\n",
    "        #We increment all the object intances found in the image.\n",
    "        imageAnnotations = object_annotations.loadAnns(object_annotations.getAnnIds(image, iscrowd=None))\n",
    "        imagesForDataset[str(image)] = imagesAndObjects[str(image)]\n",
    "        for label in imageAnnotations:\n",
    "            newInstancesInDataset[lookup[str(label['category_id'])]] = newInstancesInDataset[lookup[str(label['category_id'])]] + 1"
   ]
  },
  {
   "cell_type": "code",
   "execution_count": null,
   "id": "cc682c98",
   "metadata": {},
   "outputs": [],
   "source": [
    "print(len(imagesForDataset))"
   ]
  },
  {
   "cell_type": "code",
   "execution_count": null,
   "id": "6f1cef50",
   "metadata": {},
   "outputs": [],
   "source": [
    "print(newInstancesInDataset)"
   ]
  },
  {
   "cell_type": "code",
   "execution_count": null,
   "id": "83a663ce",
   "metadata": {},
   "outputs": [],
   "source": []
  }
 ],
 "metadata": {
  "kernelspec": {
   "display_name": "Python 3 (ipykernel)",
   "language": "python",
   "name": "python3"
  },
  "language_info": {
   "codemirror_mode": {
    "name": "ipython",
    "version": 3
   },
   "file_extension": ".py",
   "mimetype": "text/x-python",
   "name": "python",
   "nbconvert_exporter": "python",
   "pygments_lexer": "ipython3",
   "version": "3.11.2"
  }
 },
 "nbformat": 4,
 "nbformat_minor": 5
}
