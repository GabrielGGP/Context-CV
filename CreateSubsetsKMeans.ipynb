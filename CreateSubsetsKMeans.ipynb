{
 "cells": [
  {
   "cell_type": "code",
   "execution_count": null,
   "id": "45845692",
   "metadata": {},
   "outputs": [],
   "source": [
    "import json\n",
    "from CoOccuranceGraph import CoOccuranceGraph"
   ]
  },
  {
   "cell_type": "code",
   "execution_count": null,
   "id": "febdff83",
   "metadata": {},
   "outputs": [],
   "source": [
    "subset = json.load(open(\"image_list.json\"))"
   ]
  },
  {
   "cell_type": "code",
   "execution_count": null,
   "id": "def3879a",
   "metadata": {},
   "outputs": [],
   "source": [
    "graph = CoOccuranceGraph(subsetofimages = subset[\"images\"])"
   ]
  },
  {
   "cell_type": "code",
   "execution_count": null,
   "id": "b7438c3e",
   "metadata": {},
   "outputs": [],
   "source": [
    "fivePercentRemoved = graph.RemovePercentageOfImagesKMeans(pathtofiles = \"./SubsetKMeans/five/\", percentagetoremove = 5, subsetofimages = subset[\"images\"])"
   ]
  },
  {
   "cell_type": "code",
   "execution_count": null,
   "id": "14b3966e",
   "metadata": {},
   "outputs": [],
   "source": [
    "tenPercentRemoved = graph.RemovePercentageOfImagesKMeans(pathtofiles = \"./SubsetKMeans/ten/\", percentagetoremove = 10, subsetofimages = subset[\"images\"])"
   ]
  },
  {
   "cell_type": "code",
   "execution_count": null,
   "id": "cc32fcfb",
   "metadata": {},
   "outputs": [],
   "source": [
    "twentyPercentRemoved = graph.RemovePercentageOfImagesKMeans(pathtofiles = \"./SubsetKMeans/twenty/\", percentagetoremove = 20, subsetofimages = subset[\"images\"])"
   ]
  },
  {
   "cell_type": "code",
   "execution_count": null,
   "id": "bdd88592",
   "metadata": {},
   "outputs": [],
   "source": [
    "len(subset['images'])"
   ]
  },
  {
   "cell_type": "code",
   "execution_count": null,
   "id": "32c69fb5",
   "metadata": {},
   "outputs": [],
   "source": [
    "subset = json.load(open(\"./SubsetKMeans/five/image_list.json\"))\n",
    "print(len(subset['images']))"
   ]
  },
  {
   "cell_type": "code",
   "execution_count": null,
   "id": "e0a44d49",
   "metadata": {},
   "outputs": [],
   "source": [
    "subset = json.load(open(\"./SubsetKMeans/ten/image_list.json\"))\n",
    "print(len(subset['images']))"
   ]
  },
  {
   "cell_type": "code",
   "execution_count": null,
   "id": "9bee591c",
   "metadata": {},
   "outputs": [],
   "source": [
    "subset = json.load(open(\"./SubsetKMeans/twenty/image_list.json\"))\n",
    "print(len(subset['images']))"
   ]
  }
 ],
 "metadata": {
  "kernelspec": {
   "display_name": "Python 3 (ipykernel)",
   "language": "python",
   "name": "python3"
  },
  "language_info": {
   "codemirror_mode": {
    "name": "ipython",
    "version": 3
   },
   "file_extension": ".py",
   "mimetype": "text/x-python",
   "name": "python",
   "nbconvert_exporter": "python",
   "pygments_lexer": "ipython3",
   "version": "3.9.13"
  }
 },
 "nbformat": 4,
 "nbformat_minor": 5
}
