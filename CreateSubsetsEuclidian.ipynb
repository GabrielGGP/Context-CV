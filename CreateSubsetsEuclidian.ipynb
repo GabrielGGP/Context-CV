{
 "cells": [
  {
   "cell_type": "code",
   "execution_count": null,
   "id": "937f3a86",
   "metadata": {},
   "outputs": [],
   "source": [
    "import json\n",
    "from CoOccuranceGraph import CoOccuranceGraph"
   ]
  },
  {
   "cell_type": "code",
   "execution_count": null,
   "id": "1e601cff",
   "metadata": {},
   "outputs": [],
   "source": [
    "subset = json.load(open(\"image_list.json\"))"
   ]
  },
  {
   "cell_type": "code",
   "execution_count": null,
   "id": "27ab0e1e",
   "metadata": {},
   "outputs": [],
   "source": [
    "graph = CoOccuranceGraph(subsetofimages = subset[\"images\"])"
   ]
  },
  {
   "cell_type": "code",
   "execution_count": null,
   "id": "7131ce52",
   "metadata": {},
   "outputs": [],
   "source": [
    "fivePercentRemoved = graph.RemovePercentageOfImagesEuclidian(pathtofiles = \"./SubsetEuclidian/five/\", percentagetoremove = 5, subsetofimages = subset[\"images\"])"
   ]
  },
  {
   "cell_type": "code",
   "execution_count": null,
   "id": "80d3b7f3",
   "metadata": {},
   "outputs": [],
   "source": [
    "tenPercentRemoved = graph.RemovePercentageOfImagesEuclidian(pathtofiles = \"./SubsetEuclidian/ten/\", percentagetoremove = 10, subsetofimages = subset[\"images\"])"
   ]
  },
  {
   "cell_type": "code",
   "execution_count": null,
   "id": "894e0e70",
   "metadata": {},
   "outputs": [],
   "source": [
    "twentyPercentRemoved = graph.RemovePercentageOfImagesEuclidian(pathtofiles = \"./SubsetEuclidian/twenty/\", percentagetoremove = 20, subsetofimages = subset[\"images\"])"
   ]
  },
  {
   "cell_type": "markdown",
   "id": "559456e7",
   "metadata": {},
   "source": [
    "## Now to visualize the resulted subsets"
   ]
  },
  {
   "cell_type": "code",
   "execution_count": null,
   "id": "6d81e456",
   "metadata": {},
   "outputs": [],
   "source": [
    "subsetFive = json.load(open(\"./SubsetEuclidian/five/image_list.json\"))\n",
    "subsetTen = json.load(open(\"./SubsetEuclidian/ten/image_list.json\"))\n",
    "subsetTwenty = json.load(open(\"./SubsetEuclidian/twenty/image_list.json\"))"
   ]
  },
  {
   "cell_type": "code",
   "execution_count": null,
   "id": "3deccc81",
   "metadata": {
    "scrolled": true
   },
   "outputs": [],
   "source": [
    "fiveGraph = CoOccuranceGraph(subsetofimages = subsetFive[\"images\"], saveto = \"./SubsetEuclidian/five/\")"
   ]
  },
  {
   "cell_type": "code",
   "execution_count": null,
   "id": "24cd746b",
   "metadata": {},
   "outputs": [],
   "source": [
    "tenGraph = CoOccuranceGraph(subsetofimages = subsetTen[\"images\"], saveto = \"./SubsetEuclidian/ten/\")"
   ]
  },
  {
   "cell_type": "code",
   "execution_count": null,
   "id": "e4ae21e5",
   "metadata": {},
   "outputs": [],
   "source": [
    "twentyGraph = CoOccuranceGraph(subsetofimages = subsetTwenty[\"images\"], saveto = \"./SubsetEuclidian/twenty/\")"
   ]
  },
  {
   "cell_type": "code",
   "execution_count": null,
   "id": "fa4becf1",
   "metadata": {},
   "outputs": [],
   "source": []
  }
 ],
 "metadata": {
  "kernelspec": {
   "display_name": "Python 3 (ipykernel)",
   "language": "python",
   "name": "python3"
  },
  "language_info": {
   "codemirror_mode": {
    "name": "ipython",
    "version": 3
   },
   "file_extension": ".py",
   "mimetype": "text/x-python",
   "name": "python",
   "nbconvert_exporter": "python",
   "pygments_lexer": "ipython3",
   "version": "3.11.2"
  }
 },
 "nbformat": 4,
 "nbformat_minor": 5
}
